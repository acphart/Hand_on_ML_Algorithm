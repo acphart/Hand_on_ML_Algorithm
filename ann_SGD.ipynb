{
 "cells": [
  {
   "cell_type": "markdown",
   "metadata": {},
   "source": [
    "# 介绍"
   ]
  },
  {
   "cell_type": "markdown",
   "metadata": {},
   "source": [
    "### 参考文献\n",
    "- Michael A. Nielsen, “Neural Networks and Deep Learning”, Determination Press, 2015."
   ]
  },
  {
   "cell_type": "markdown",
   "metadata": {},
   "source": [
    "### 项目介绍\n",
    "- 这里实现了一个可以学习mnist手写数字特征的人工神经网络类`ANN`。\n",
    "- 此版本的`ANN`基于随机梯度下降算法实现，梯度由反向传播算法计算，神经元激活函数为`sigmoid()`，或称`logistic` 函数。\n",
    "- 此项目主要为学习之用，在实现核心功能的前提下，尽量编写简单、易于阅读的代码，暂时没有考虑优化。\n",
    "- 此项目所使用数据为Kaggle竞赛中Digit_Recognizer的train.csv文件，数据可在此处下载[Kaggle:Digit Recognizer](https://www.kaggle.com/c/digit-recognizer/data)\n",
    "- 关于注释用词，请谅解作者是从C/C++上手的编程，所以多称‘函数’而非‘方法’，但作者相信这应该不会对阅读造成干扰 **: )**"
   ]
  },
  {
   "cell_type": "markdown",
   "metadata": {},
   "source": [
    "### 反向传播算法的公式证明\n",
    "- 这里花了很多冤枉时间，原本证明单个权重或者偏置的梯度公式不怎么麻烦，但是我吃着没事做，硬是啃了两三天想实现同时向网络装入一批训练数据并计算平均梯度，这样可以利用`numpy`对运算加速，结果最后在证公式、向量化运算和debug中跪了 ~~\n",
    "- 最后其实还是从上面列出来的参考书中看到，一次送一个训练数据进`ann`，只不过多了一层很小的循环，整个过程就简洁多了 ~~\n",
    "- 由于这里篇幅原因，其实主要是要码的公式太多。。。，详细证明过程等有空专门写一篇博客，然后在这里更新链接。"
   ]
  },
  {
   "cell_type": "markdown",
   "metadata": {},
   "source": [
    "### 下一步计划\n",
    "- 进一步调参\n",
    "- 加入正则化，尝试`L1`正则和`L2`正则\n",
    "- 改变神经元激活函数，尝试双曲正切函数`tanh()`和修正线性单元`ReLU()`\n",
    "- 搭建卷积神经网络，使得网络可以学习图像结构特征"
   ]
  },
  {
   "cell_type": "markdown",
   "metadata": {},
   "source": [
    "# 步骤"
   ]
  },
  {
   "cell_type": "markdown",
   "metadata": {},
   "source": [
    "## 1. 导入工具库和准备数据"
   ]
  },
  {
   "cell_type": "markdown",
   "metadata": {},
   "source": [
    "- 这里主要需要借助numpy进行向量运算"
   ]
  },
  {
   "cell_type": "code",
   "execution_count": 1,
   "metadata": {},
   "outputs": [],
   "source": [
    "import random\n",
    "import numpy as np\n",
    "import pandas as pd\n",
    "import matplotlib.pyplot as plt\n",
    "from IPython.core.interactiveshell import InteractiveShell\n",
    "\n",
    "import os\n",
    "os.environ['TF_CPP_MIN_LOG_LEVEL'] = '2'\n",
    "import warnings\n",
    "warnings.filterwarnings('ignore')\n",
    "\n",
    "InteractiveShell.ast_node_interactivity = 'all'"
   ]
  },
  {
   "cell_type": "markdown",
   "metadata": {},
   "source": [
    "- 数据读入之后转换成np.ndarray对象"
   ]
  },
  {
   "cell_type": "code",
   "execution_count": 77,
   "metadata": {},
   "outputs": [],
   "source": [
    "data = pd.read_csv('data/train.csv').values"
   ]
  },
  {
   "cell_type": "markdown",
   "metadata": {},
   "source": [
    "## 2. 定义神经网络类ANN"
   ]
  },
  {
   "cell_type": "markdown",
   "metadata": {},
   "source": [
    "- `ANN`目前提供给外部使用的就是以下四个方法\n",
    "- `ANN`其他方法为内部方法调用\n",
    "- 所有方法的详细文档见方法定义处"
   ]
  },
  {
   "cell_type": "markdown",
   "metadata": {},
   "source": [
    "- **ANN的使用方式如下：**\n",
    "1. 构建ANN实例并初始化：`ann = ANN(sizes)`；\n",
    "2. 训练ANN：`ann.SGD(train_data, epochs, batch_size, alpha[, test_data])`；\n",
    "3. 评估ANN：`ann.evaluate(test_data)`；\n",
    "4. 预测：`ann.predict(x)`。"
   ]
  },
  {
   "cell_type": "code",
   "execution_count": 83,
   "metadata": {},
   "outputs": [],
   "source": [
    "class ANN(object):\n",
    "    '''\n",
    "    ANN：人工神经网络类：\n",
    "    构建ANN实例：ann = ANN(sizes)，sizes含义见self__init__()；\n",
    "    训练ANN：ann.SGD(train_data, epochs, batch_size, alpha)；\n",
    "    评估ANN：ann.evaluate(test_X, test_y)；\n",
    "    预测：ann.predict(x)。\n",
    "    '''\n",
    "\n",
    "    def __init__(self, sizes):\n",
    "        '''\n",
    "        sizes是ANN的规模；\n",
    "        num_layers是ANN的层数；\n",
    "        biases是偏置矩阵列表，第l层的biases.shape设置为(nl, 1), nl为第l层的神经元数目；\n",
    "        weights是权重矩阵列表，第l层的weights.shape设置为(nl, nl-1), nl和nl-1分别是第l和l+1层的神经元数目；\n",
    "        如：sizes=[784, 30, 10]就是一个输入层、隐藏层、输出层分别是784,、30、10个神经元的神经网络；\n",
    "        而相应的biases为[(30，1), (10，1)]，第一层没有偏置值；weights为[(30, 784), (10, 30)]\n",
    "        '''\n",
    "        '''\n",
    "        将biases.shape设置为(nl, 1)，而不是(nl,)是为了能够同时处理多个输入；\n",
    "        使用标准正态分布对权重进行初始化，可以给我们的梯度下降算法一个起点；\n",
    "        但这不是最好的初始化方法，可以使用均值为0，标准差为1./sqrt(n)的正态分布进行初始化。\n",
    "        '''\n",
    "        self.num_layers = len(sizes)\n",
    "        self.sizes = sizes\n",
    "        self.biases = [np.random.randn(y, 1) for y in sizes[1:]]\n",
    "        self.weights = [np.random.randn(y, x)\n",
    "                        for x, y in zip(sizes[:-1], sizes[1:])]\n",
    "\n",
    "    def feedforward(self, a):\n",
    "        '''\n",
    "        前向传播，返回神经网络的输出；\n",
    "        输入的a.shape is (n, 1)，n是特征维度；\n",
    "        返回的a.shape is (L, 1)，L是输出层神经元个数。\n",
    "        '''\n",
    "        a = a.reshape(len(a), 1)\n",
    "        for b, w in zip(self.biases, self.weights):\n",
    "            a = sigmoid(np.dot(w, a) + b)\n",
    "        return a\n",
    "\n",
    "    def SGD(self, train_data, epochs, batch_size, alpha, \n",
    "            cv_data=None):\n",
    "        '''\n",
    "        随机梯度下降：\n",
    "        train_data是data_wrapper()包装之后的训练数据，数据格式见data_wrapper()函数定义处；\n",
    "        epochs为迭代次数；\n",
    "        batch_size为采样时的批量数据的大小；\n",
    "        alpha是学习率；\n",
    "        cv_data为可选参数，是data_wrapper()包装之后的交叉验证数据，数据格式见data_wrapper()函数定义处；\n",
    "        若给出了交叉验证数据，则在每次训练后都会进行性能评估，可用以跟踪进度，但会拖慢执行速度。        \n",
    "        '''            \n",
    "        m = len(train_data)\n",
    "        for j in range(epochs):\n",
    "            '''\n",
    "            在每个迭代期，首先将数据打乱，然后将它分成多个小批量数据batches；\n",
    "            对于每一个小批量数据batch应用一次梯度下降，通过调用self.grad_desent()完成。\n",
    "            '''\n",
    "            random.shuffle(train_data)\n",
    "            batches = [train_data[k: k+batch_size] \n",
    "                       for k in range(0, m, batch_size)]\n",
    "            for batch in batches:\n",
    "                self.grad_desent(batch, alpha)\n",
    "            \n",
    "            if cv_data:\n",
    "                '''若是给出了测试数据，则进行性能评估'''\n",
    "                m_cv = len(cv_data)\n",
    "                print(\"Epoch {0}: {1} / {2}\".format(\n",
    "                    j, self.evaluate(cv_data), m_cv))\n",
    "            else:\n",
    "                '''否则输出此次迭代完成即可'''\n",
    "                print(\"Epoch {0} complete\".format(j))\n",
    "\n",
    "    def grad_desent(self, batch, alpha):\n",
    "        '''\n",
    "        梯度下降，这里调用反向传播函数self.backprop()，\n",
    "        对batch中的每一个样本计算梯度，然后适当地更新权重和偏置。\n",
    "        nabla_b 和nabla_w分别为偏置和权重的梯度；\n",
    "        delta_nabla_b 和delta_nabla_w分别是单个训练数据(x, y)求得的梯度；\n",
    "        '''\n",
    "        nabla_b = [np.zeros(b.shape) for b in self.biases]\n",
    "        nabla_w = [np.zeros(w.shape) for w in self.weights]\n",
    "        \n",
    "        '''求得每一个训练数据(x, y)的梯度并累加到nabla_b和nabla_w中'''\n",
    "        for x, y in batch:\n",
    "            delta_nabla_b, delta_nabla_w = self.backprop(x, y)\n",
    "            nabla_b = [nb+dnb for nb, dnb in zip(nabla_b, delta_nabla_b)]\n",
    "            nabla_w = [nw+dnw for nw, dnw in zip(nabla_w, delta_nabla_w)]\n",
    "        \n",
    "        '''更新神经网络的权重和偏置'''\n",
    "        self.weights = [w - (alpha/len(batch))*nw\n",
    "                        for w, nw in zip(self.weights, nabla_w)]\n",
    "        self.biases = [b - (alpha/len(batch))*nb\n",
    "                       for b, nb in zip(self.biases, nabla_b)]\n",
    "\n",
    "    def backprop(self, x, y):\n",
    "        '''\n",
    "        x.shape is (n,),  y.shape is (L,)；\n",
    "        反向传播：计算梯度。\n",
    "        nabla_b 和nabla_w分别为偏置和权重的梯度；\n",
    "        activations为神经元的激活值向量列表[a1, a2,...an]，其中ai代表第i层神经元的激活值向量；\n",
    "        zs为神经元的输入权值向量列表[z2, z3,...zn]，其中zi表示第i层神经元的输入权值向量；\n",
    "        '''\n",
    "        nabla_b = [np.zeros(b.shape) for b in self.biases]\n",
    "        nabla_w = [np.zeros(w.shape) for w in self.weights]\n",
    "        \n",
    "        '''前向传播，求得所有的激活值和输入权重'''\n",
    "        activation = x\n",
    "        activations = [activation] \n",
    "        zs = [] \n",
    "        for b, w in zip(self.biases, self.weights): \n",
    "            z = np.dot(w, activation) + b\n",
    "            zs.append(z)\n",
    "            activation = sigmoid(z)\n",
    "            activations.append(activation)\n",
    "        \n",
    "        '''反向传播过程'''\n",
    "        delta = (y - sigmoid(zs[-1])) * diff_sigm(zs[-1])\n",
    "        nabla_b[-1] = delta\n",
    "        nabla_w[-1] = np.dot(delta, activations[-2].T)\n",
    "        for layer in range(2, self.num_layers):\n",
    "            z = zs[-layer]\n",
    "            delta = np.dot(self.weights[-layer+1].T, delta)\n",
    "            nabla_b[-layer] = delta\n",
    "            nabla_w[-layer] = np.dot(delta, activations[-layer-1].T)\n",
    "        return (nabla_b, nabla_w)\n",
    "\n",
    "    def evaluate(self, test_data):\n",
    "        '''\n",
    "        评价函数，预测正确的个数。\n",
    "        np.argmax函数返回数组的最大值的序号，实现从one-hot到数字的转换；\n",
    "        '''\n",
    "        test_results = [(np.argmax(self.feedforward(x)), y)\n",
    "                        for (x, y) in test_data]\n",
    "        return sum(int(x == y) for (x, y) in test_results)\n",
    "    \n",
    "    def predict(self, x):\n",
    "        '''预测函数'''\n",
    "        return np.argmax(self.feedforward(x))"
   ]
  },
  {
   "cell_type": "markdown",
   "metadata": {},
   "source": [
    "## 3. 外部函数"
   ]
  },
  {
   "cell_type": "markdown",
   "metadata": {},
   "source": [
    "- `ANN`中会用到一些外部函数，定义如下：\n",
    "- `sigmoid(z)`：神经元激活函数\n",
    "$$sigmoid(z) = \\frac{1}{1 + e^{-z}}$$\n",
    "- `diff_sigm(z)`：`sigmoid(z)`的导数\n",
    "$$sigmoid^{'}(z) = \\frac{-e^{-z}}{(1 + e^{-z})^2} = -sigmoid(z)*(1-sigmoid(z))$$"
   ]
  },
  {
   "cell_type": "markdown",
   "metadata": {},
   "source": [
    "- `vectorize(j)`：见函数注释\n",
    "- `data_wrapper(data, s_size)`：数据包装函数\n",
    "- 从**Kaggle**上下载的数据源文件格式对于这里构建神经网络其实不是很方便，所以将数据重新包装了，使得每一个数据都是`(x, y)`元组，其中`x`为特征向量，`y`为期望结果，即真实值。其中训练数据`train_data`的`y`还需要进行向量化转换成one-hot向量，便于训练ANN。\n",
    "- 并且因为自己实现的ANN没法使用电脑上的GPU，速度很慢，所以包装函数可以指定一个`s_size`参数，选取数据的一个小子集进行调参，同时根据子集大小的不同，其中划分训练集、交叉验证集和测试集的大小也不同，子集很大时，交叉验证集和测试集均固定为1000."
   ]
  },
  {
   "cell_type": "code",
   "execution_count": 84,
   "metadata": {},
   "outputs": [],
   "source": [
    "def sigmoid(z):\n",
    "    \"\"\"激活函数\"\"\"\n",
    "    return 1.0/(1.0+np.exp(-z))\n",
    "\n",
    "def diff_sigm(z):\n",
    "    \"\"\"激活函数sigmoid()的导数\"\"\"\n",
    "    return -sigmoid(z)*(1-sigmoid(z))\n",
    "\n",
    "def vectorize(j):\n",
    "    '''\n",
    "    将数字转换成one-hot向量\n",
    "    如： 2 => [0,0,1,0,0,0,0,0,0,0] \n",
    "    '''\n",
    "    vector = np.zeros((10, 1))\n",
    "    vector[j] = 1.0\n",
    "    return vector\n",
    "\n",
    "def data_wrapper(data, s_size):\n",
    "    '''\n",
    "    对数据重新包装：\n",
    "    data是原始的train.csv数据的np.ndarray格式；\n",
    "    s_size是抽取的样本的大小。\n",
    "    返回的是train_data, cv_data, test_data ：\n",
    "    train_data为训练集，格式为元组列表[tp0, tp1,...]，\n",
    "    tpi = (xi, yi)，xi为784维的特征向量，yi为对应数字的one-hot向量；\n",
    "    cv_data为交叉验证集，格式同训练集，但yi是对应的数字标签，非one-hot向量；\n",
    "    test_data为测试集，格式同cv_data。\n",
    "    '''\n",
    "    if s_size<=5000:\n",
    "        train_size = int(s_size*0.6)\n",
    "        cv_size = int(s_size*0.8)\n",
    "    else:\n",
    "        train_size = s_size - 2000\n",
    "        cv_size = s_size - 1000\n",
    "\n",
    "    s_data = data[:s_size, ]\n",
    "    s_X = s_data[:train_size, 1:]\n",
    "    s_y = s_data[:train_size, 0]\n",
    "    s_cv_X = s_data[train_size:cv_size, 1:]\n",
    "    s_cv_y = s_data[train_size:cv_size, 0]\n",
    "    s_test_X = s_data[cv_size: , 1:]\n",
    "    s_test_y = s_data[cv_size: , 0]\n",
    "    \n",
    "    train_X = [np.reshape(x, (784, 1)) for x in s_X]\n",
    "    train_y = [vectorize(y) for y in s_y]\n",
    "    train_data = list(zip(train_X, train_y))\n",
    "    cv_X = [np.reshape(x, (784, 1)) for x in s_cv_X]\n",
    "    cv_data = list(zip(cv_X, s_cv_y))\n",
    "    test_X = [np.reshape(x, (784, 1)) for x in s_test_X]\n",
    "    test_data = list(zip(test_X, s_test_y))\n",
    "    \n",
    "    return (train_data, cv_data, test_data)"
   ]
  },
  {
   "cell_type": "markdown",
   "metadata": {},
   "source": [
    "## 3. 搭建ANN实例并训练网络"
   ]
  },
  {
   "cell_type": "markdown",
   "metadata": {},
   "source": [
    "- 在这里体会到不能用GPU的痛苦了，也体会到调参的痛苦了 ~~"
   ]
  },
  {
   "cell_type": "code",
   "execution_count": 123,
   "metadata": {
    "scrolled": false
   },
   "outputs": [
    {
     "name": "stdout",
     "output_type": "stream",
     "text": [
      "Epoch 0: 744 / 1000\n",
      "Epoch 1: 818 / 1000\n",
      "Epoch 2: 829 / 1000\n",
      "Epoch 3: 827 / 1000\n",
      "Epoch 4: 835 / 1000\n",
      "Epoch 5: 829 / 1000\n",
      "Epoch 6: 835 / 1000\n",
      "Epoch 7: 833 / 1000\n",
      "Epoch 8: 908 / 1000\n",
      "Epoch 9: 901 / 1000\n"
     ]
    }
   ],
   "source": [
    "ann = ANN([784, 100, 10])\n",
    "train_data, cv_data, test_data = data_wrapper(data, 40000)\n",
    "\n",
    "ann.SGD(train_data, 10, 30, 2, cv_data)"
   ]
  },
  {
   "cell_type": "markdown",
   "metadata": {},
   "source": [
    "- 总之在尝试了很多次参数后我就准确率停在0.914了，1000张能识别出914张，算是实现了基本功能吧 ~~"
   ]
  },
  {
   "cell_type": "code",
   "execution_count": 124,
   "metadata": {},
   "outputs": [
    {
     "data": {
      "text/plain": [
       "0.914"
      ]
     },
     "execution_count": 124,
     "metadata": {},
     "output_type": "execute_result"
    }
   ],
   "source": [
    "ann.evaluate(test_data)/len(test_data)"
   ]
  },
  {
   "cell_type": "markdown",
   "metadata": {},
   "source": [
    "### 查看预测效果"
   ]
  },
  {
   "cell_type": "code",
   "execution_count": 125,
   "metadata": {},
   "outputs": [],
   "source": [
    "def show_pic(ax, image, y_, label=None):\n",
    "    '''\n",
    "    作图函数：\n",
    "    ax为Matplotlib.Axes对象；\n",
    "    image为单个的mnist手写数字特征向量，image.shape is (784,)；\n",
    "    y_为预测值；\n",
    "    label为image对应的真实数字标签。\n",
    "    '''\n",
    "    img = image.reshape(28, 28)\n",
    "    ax.imshow(img, cmap='Greys')\n",
    "    ax.axis('off')\n",
    "    ax.text(28, 28, str(y_), fontsize=12)\n",
    "    if label != None:\n",
    "        ax.text(28, 8, str(label), color='r', fontsize=12)"
   ]
  },
  {
   "cell_type": "markdown",
   "metadata": {},
   "source": [
    "- 这里把前n * n 个识别错误的手写数字显示出来\n",
    "- 每个手写数字右上方红色数字是真实值，右下方黑色数字是`ann`预测值\n",
    "- 结果显示，这些错误识别的数字有一部分的确不好辨认，但大部分我们人还是可以辨认出来的。\n",
    "- 所以网络还有改进的空间 ~~"
   ]
  },
  {
   "cell_type": "code",
   "execution_count": 129,
   "metadata": {},
   "outputs": [
    {
     "data": {
      "image/png": "[encoded data removed]",
      "text/plain": [
       "<Figure size 432x288 with 64 Axes>"
      ]
     },
     "metadata": {},
     "output_type": "display_data"
    }
   ],
   "source": [
    "n = 8\n",
    "fig, ax = plt.subplots(n, n, sharex=True, sharey=True)\n",
    "ax = ax.flatten()\n",
    "ax_id = 0\n",
    "i = 0\n",
    "while ax_id < n*n :\n",
    "    x = test_data[i][0]\n",
    "    y = test_data[i][1]\n",
    "    y_ = ann.predict(x)\n",
    "    if y_ != y:\n",
    "        show_pic(ax[ax_id],x, y_, y)\n",
    "        ax_id = ax_id + 1\n",
    "    i = i + 1\n",
    "        "
   ]
  }
 ],
 "metadata": {
  "kernelspec": {
   "display_name": "Python 3",
   "language": "python",
   "name": "python3"
  },
  "language_info": {
   "codemirror_mode": {
    "name": "ipython",
    "version": 3
   },
   "file_extension": ".py",
   "mimetype": "text/x-python",
   "name": "python",
   "nbconvert_exporter": "python",
   "pygments_lexer": "ipython3",
   "version": "3.5.5"
  }
 },
 "nbformat": 4,
 "nbformat_minor": 2
}
